{
 "cells": [
  {
   "cell_type": "markdown",
   "metadata": {
    "colab_type": "text",
    "id": "2pUWLVGkMTk0"
   },
   "source": [
    "## Assignment 2\n",
    "## P556: Applied Machine Learning\n",
    "### Due date: Saturday, March 2, 11:59PM"
   ]
  },
  {
   "cell_type": "markdown",
   "metadata": {
    "colab_type": "text",
    "id": "698K4YWkUVcC"
   },
   "source": [
    "# Problem 1"
   ]
  },
  {
   "cell_type": "markdown",
   "metadata": {
    "colab_type": "text",
    "id": "_tMk54E3M6qN"
   },
   "source": [
    "## Problem 1.1 (40 points)\n",
    "\n",
    "Implement a multi-class logistic regression model.\n",
    "\n",
    "The l2_reg parameter is used for L2-Regularization. The default value is 0, which means no regularization. Non-0 values will be used to pass the corresponding lambda value. \n",
    "\n",
    "The iters parameter sets the maximum number of times that we will update the weights.\n",
    "\n",
    "The early_stopping parameter will be used to set a threshold that will cause the model to stop training when the loss between iterations is equal or less than the parameter value."
   ]
  },
  {
   "cell_type": "code",
   "execution_count": 131,
   "metadata": {
    "colab": {},
    "colab_type": "code",
    "id": "kpW1SC2vMTE6"
   },
   "outputs": [],
   "source": [
    "# Logistic regression code\n",
    "def logistic_regression(X, y, iters=50, early_stopping=0, l2_reg=0):\n",
    "    X = np.insert(X, 0, np.ones(len(X)), axis = 1)\n",
    "    one_vs_all = []\n",
    "    for num in np.unique(y):\n",
    "        temp_y = np.copy(y)\n",
    "        temp_y[temp_y == num] = -1\n",
    "        temp_y[temp_y!=-1] = 0 \n",
    "        temp_y[temp_y == -1] = 1\n",
    "        one_vs_all.append(temp_y)\n",
    "    errors = []\n",
    "    thetas = []\n",
    "    prev_error = 0\n",
    "    for y in one_vs_all:\n",
    "        errors = []\n",
    "        theta = np.zeros(len(X[0]))\n",
    "        prev_error = 0\n",
    "        for it in range(0,iters):\n",
    "            t_transpose = np.transpose(theta)\n",
    "            result = np.dot(X,t_transpose)\n",
    "            predictions = 1/(1+np.exp(-result))\n",
    "            pred_error = predictions - y\n",
    "            delta = np.dot(np.transpose(pred_error),X)/len(X)\n",
    "            if(l2_reg!=None):\n",
    "                delta[1:]+=(l2_reg * theta[1:])/len(X)\n",
    "            theta = theta - 0.1*delta\n",
    "            error = (-y * np.log(predictions) - (1 - y) * np.log(1 - predictions))/len(X)\n",
    "            errors.append(sum(error))\n",
    "            if(abs(sum(error) - prev_error)<= early_stopping):\n",
    "                break\n",
    "            prev_error = sum(error)\n",
    "        thetas.append(theta)\n",
    "    return thetas"
   ]
  },
  {
   "cell_type": "markdown",
   "metadata": {
    "colab_type": "text",
    "id": "EcslSfYhSnJ0"
   },
   "source": [
    "## Problem 1.2 (10 points)\n",
    "\n",
    "Test your model using the three class dataset that we have included in the next cell. Using the following regularization values: None, 0.5, 10.0. Which of the values gives a better threshold?\n",
    "\n",
    "For training data, I am getting same accuracy for L2_reg = 0.0 and L2_reg = 0.5.  \n",
    "Accuracies for training data:  \n",
    "L2_reg = None Accuracy = 96.0  \n",
    "L2_reg = 0.5  Accuracy = 96.0  \n",
    "L2_reg = 10.0 Accuracy = 95.6  \n",
    "\n",
    "But when I used new larger data, for L2_reg = None. I am getting best accuarcy.  \n",
    "L2_reg = None Accuracy = 95.32000000000001      \n",
    "L2_reg = 0.5  Accuracy = 95.306    \n",
    "L2_reg = 10.0 Accuracy = 95.07100000000001    "
   ]
  },
  {
   "cell_type": "code",
   "execution_count": 132,
   "metadata": {
    "colab": {},
    "colab_type": "code",
    "id": "WZEfSDiBTtIh"
   },
   "outputs": [],
   "source": [
    "from sklearn.datasets import make_blobs\n",
    "import numpy as np\n",
    "\n",
    "centers = [[-5, 0], [0, 1.5], [5, -1]]\n",
    "X, y = make_blobs(n_samples=1000, centers=centers, random_state=40)\n",
    "X1, y1 = make_blobs(n_samples=100000, centers=centers, random_state=40)\n",
    "transformation = [[0.4, 0.2], [-0.4, 1.2]]\n",
    "X = np.dot(X, transformation)\n",
    "X1 = np.dot(X1, transformation)"
   ]
  },
  {
   "cell_type": "code",
   "execution_count": 133,
   "metadata": {
    "inputHidden": false,
    "outputHidden": false
   },
   "outputs": [
    {
     "name": "stdout",
     "output_type": "stream",
     "text": [
      "Accuarcy for l2_reg: None is 95.32000000000001 %\n",
      "Accuarcy for l2_reg: 0.5 is 95.306 %\n",
      "Accuarcy for l2_reg: 10.0 is 95.07100000000001 %\n"
     ]
    }
   ],
   "source": [
    "lambda_values = [None,0.5,10.0]\n",
    "weights = []\n",
    "for l in lambda_values:\n",
    "    weights.append(logistic_regression(X, y,1000, 0, l))\n",
    "\n",
    "X = np.insert(X, 0, np.ones(len(X)), axis = 1)\n",
    "X1 = np.insert(X1, 0, np.ones(len(X1)), axis = 1)\n",
    "\n",
    "TP = 0\n",
    "hypothesis = []\n",
    "accuracies = []\n",
    "for w in weights:\n",
    "    TP = 0\n",
    "    for tup in zip(X1,y1):\n",
    "         hypothesis = []\n",
    "         z1 = np.dot(tup[0],w[0])\n",
    "         h1 = 1/(1+np.exp(-z1))\n",
    "         hypothesis.append(h1)\n",
    "         z2 = np.dot(tup[0],w[1])\n",
    "         h2 = 1/(1+np.exp(-z2))\n",
    "         hypothesis.append(h2)\n",
    "         z3 = np.dot(tup[0],w[2])\n",
    "         h3 = 1/(1+np.exp(-z3))\n",
    "         hypothesis.append(h3)\n",
    "         if(hypothesis.index(max(hypothesis)) == tup[1]):\n",
    "             TP+=1\n",
    "    accuracy = (TP/len(X1))*100 \n",
    "    accuracies.append(accuracy)\n",
    "\n",
    "for a in zip(accuracies,lambda_values):\n",
    "    print(\"Accuarcy for l2_reg: {} is {} %\".format(a[1],a[0]))"
   ]
  },
  {
   "cell_type": "markdown",
   "metadata": {
    "colab_type": "text",
    "id": "-BmCitNEUdVn"
   },
   "source": [
    "# Problem 2"
   ]
  },
  {
   "cell_type": "markdown",
   "metadata": {
    "colab_type": "text",
    "id": "XV8TLFLFNJXe"
   },
   "source": [
    "## Problem 2.1 (5 points)\n",
    "\n",
    "Consider the binary classification problem of mapping a given input to two classes. Let $\\mathcal{X}=\\mathbb{R}^d$ and $\\mathcal{Y}=\\{+1, -1\\}$ be the input space and output space, respectively. In simple words, it means that the input has $d$ features and all of them are real valued, whereas the output can only take values $-1$ or $+1$. This is one of the most common problems in machine learning and many sophisticated methods exist to solve it. In the question, we will solve it using the concepts we have already learned in class. Like we did in linear regression, let us assume the two sets of points can be separated using a straight line i.e. the samples are linearly separable. So if $d=2$, one should be able to draw a line to distinguish between the two classes. All points lying on side of the line should belong to a particular class (say $1$) and the points lying on the other side should belong to another class (say $2$). To see what this would look like,  your first task is as follows:\n",
    "\n",
    "Write a function that will randomly generate a dataset for this problem. Your function should randomly choose a line $l$, which can be denoted as $ax + by + c = 0$. According to basic high school geometry, the line divides the plane into two sides. On one side, $ax+by+c>0$ while on the other $ax+by+c<0$. Use this fact to randomly generate $k_0$ points on the side of class 0 (i.e. $y=-1$) and $k_1$ points on the side of class 1 (i.e. $y=1$). Use the function you wrote in the previous assignment to plot this dataset!model. Note: cannot use the name 'perceptron' nor binary classification, that would make it way too easy to look up in Google."
   ]
  },
  {
   "cell_type": "code",
   "execution_count": 122,
   "metadata": {
    "colab": {},
    "colab_type": "code",
    "id": "-FZN-nskSPSI"
   },
   "outputs": [
    {
     "data": {
      "image/png": "[encoded data removed]",
      "text/plain": [
       "<Figure size 432x288 with 1 Axes>"
      ]
     },
     "metadata": {
      "needs_background": "light"
     },
     "output_type": "display_data"
    }
   ],
   "source": [
    "import random\n",
    "import matplotlib.pyplot as plt\n",
    "\n",
    "def generate_dataset(k0, k1):\n",
    "  \"\"\"\n",
    "  Your code for generating the dataset goes here! The output should X and y.\n",
    "  You should call the visualization function from this function. Every time we \n",
    "  run this cell, it should plot a new dataset along with the line which was used\n",
    "  to generate that dataset. We will test this by changing the values of k and\n",
    "  running the cell multiple times\n",
    "  Input: k0 = number\n",
    "          k1 = number\n",
    "  Output: X = An (m x d) dimension numpy array where m is the number of samples and d is the number of features\n",
    "          y = (m x 1) dimension vector where m is the number of samples\n",
    "  \"\"\"\n",
    "  \"\"\"\n",
    "  Generating the points in the range -20 to 20. Here I am assuming d = 2.\n",
    "  \"\"\"\n",
    "  a = random.uniform(-20,20)\n",
    "  b = random.uniform(-20,20)\n",
    "  while(1):\n",
    "      if(b!=0):\n",
    "          break\n",
    "      b = random.uniform(-20,20)\n",
    "  c = random.uniform(-20,20)\n",
    "  class1 = []\n",
    "  class2 = []\n",
    "  class1_label = []\n",
    "  class2_label = []\n",
    "  while(len(class1) < k0 or len(class2) < k1):\n",
    "    x = random.uniform(-20,20)\n",
    "    y = random.uniform(-20,20)\n",
    "    if((a*x+b*y+c)< 0 and len(class1)<k0):\n",
    "        class1.append((x,y))\n",
    "        class1_label.append(-1)\n",
    "    elif((a*x+b*y+c)>0 and len(class2)<k1):\n",
    "        class2.append((x,y))\n",
    "        class2_label.append(1)\n",
    "  x_list = []\n",
    "  y_list = []\n",
    "  for x in range(-20,20):\n",
    "    x_list.append(x)\n",
    "    y = -(a*x+c)/b \n",
    "    y_list.append(y)\n",
    "\n",
    "  plt.plot(x_list,y_list,linewidth = 3,color = \"g\")\n",
    "\n",
    "  x_list = []\n",
    "  y_list = []\n",
    "  for tup in class1:\n",
    "    x_list.append(tup[0])\n",
    "    y_list.append(tup[1])\n",
    "  plt.scatter(x_list,y_list,color = 'g')\n",
    "\n",
    "  x_list = []\n",
    "  y_list = []\n",
    "  for tup in class2:\n",
    "    x_list.append(tup[0])\n",
    "    y_list.append(tup[1])\n",
    "  plt.scatter(x_list,y_list,color = 'b')\n",
    "  X = class1+class2\n",
    "  y = class1_label + class2_label\n",
    "  return np.array(X),np.array(y)\n",
    "\n",
    "X,y = generate_dataset(10, 10)"
   ]
  },
  {
   "cell_type": "markdown",
   "metadata": {
    "colab_type": "text",
    "id": "BSpacJGpUfiu"
   },
   "source": [
    "## Problem 2.2 (35 points)\n",
    "\n",
    "When you are given a dataset for which you do not have access the the target function $f$ which maps $\\mathcal{X}$ to $\\mathcal{Y}$. You learn it from the data. In this problem, it is akin to learning the parameters of the line that separates the two classes. The same line above can be represented as $$\\sum_{i=0}^d w_i x_i = 0$$\n",
    "Notice that $i$ starts from $0$, instead of $1$. Can you think of why?\n",
    "\n",
    "The goal here is to correctly find out $\\bf{w}$. The algorithm to find it is a simple iterative process. \n",
    "\n",
    "1. Randomly choose a $\\mathbf{w}$ to begin with.\n",
    "2. Keep on adjusting the value of $\\bf{w}$ as follows until all data samples are correctly classified:\n",
    "    1. Randomly choose a sample from the dataset without replacement and see if it is correctly classified. If yes,  move on to another sample.\n",
    "    2. If not,  then  update the weights as $\\mathbf{w}^{t+1} = \\mathbf{w}^t + y \\cdot \\mathbf{x}$\n",
    "    and go back to the previous step (of randomly chosing a sample)\n",
    "    \n",
    "        - $\\mathbf{w}^{t+1}$ is value of $\\mathbf{w}$ at iteration $t+1$\n",
    "        - $\\mathbf{w}^{t}$ is value of $\\mathbf{w}$ at iteration $t$\n",
    "        - $y$ is the class label for the sample under consideration\n",
    "        - $\\mathbf{x}$ is the data-point under consideration\n",
    "    \n",
    "    \n",
    "Write a function that implements this learning algorithm. The input to the function is going to be a dataset represented by the input variable $X$ and the target variable $y$. The output of the function should be the chosen $\\mathbf{w}$.\n",
    "\n",
    "\n",
    "\n"
   ]
  },
  {
   "cell_type": "code",
   "execution_count": 124,
   "metadata": {
    "colab": {},
    "colab_type": "code",
    "id": "peR3uotaU9rL"
   },
   "outputs": [
    {
     "data": {
      "image/png": "[encoded data removed]",
      "text/plain": [
       "<Figure size 432x288 with 1 Axes>"
      ]
     },
     "metadata": {
      "needs_background": "light"
     },
     "output_type": "display_data"
    }
   ],
   "source": [
    "def fit(X, y):\n",
    "  \"\"\"\n",
    "  Your code for Problem 2.2 goes here. Apart from writing the fit function,\n",
    "  you should also write code to not only plot the points in the dataset,\n",
    "  but also plot the learned line represented by w. We will test this, by running \n",
    "  the cell for task 1 (thus generating a new dataset) and then running this cell.\n",
    "  Even though the visualization is done for d=3 and 2-D points, your code should be\n",
    "  generic and be able to handle any d. This will also be tested.\n",
    "  \n",
    "  INPUT: The output of generate_data() will go as input to this function. See \n",
    "  its definition for the dimensions of X and y\n",
    "  Output: The final weight vector w.\n",
    "  \"\"\"\n",
    "  \"\"\"\n",
    "  Generating the points in the range -20 to 20. Here I am assuming d = 2.\n",
    "  \"\"\"\n",
    "  X = np.insert(X, 0, np.ones(len(X)), axis = 1)\n",
    "  w = np.zeros(len(X[0]))\n",
    "  X_new = X.tolist()\n",
    "  i = 0\n",
    "  for i in range(1000):    \n",
    "    X = np.copy(X_new)\n",
    "    target = np.copy(y)\n",
    "    X = X.tolist()\n",
    "    target = target.tolist()\n",
    "    i =  0\n",
    "    while(len(X)>0):\n",
    "        x = random.choice(X)\n",
    "        y1 = target[X.index(x)]\n",
    "        del target[X.index(x)]\n",
    "        del X[X.index(x)]\n",
    "        val = np.dot(x,np.transpose(w))\n",
    "        if(val > 0 and y1 == 1):\n",
    "            continue\n",
    "        elif(val < 0 and y1 == -1):\n",
    "            continue\n",
    "        else:\n",
    "            w = w + np.dot(y1,x)\n",
    "\n",
    "    x_list = []\n",
    "    y_list = []\n",
    "    i = 0\n",
    "    for x in range(-20,20):\n",
    "            x_list.append(x)\n",
    "            y = -(w[1]*x+w[0])/w[2] \n",
    "            y_list.append(y)\n",
    "\n",
    "    plt.plot(x_list,y_list,linewidth = 3,color = \"g\")\n",
    "\n",
    "    x_list = []\n",
    "    y_list = []\n",
    "    for tup in X_new[:10]:\n",
    "        x_list.append(tup[1])\n",
    "        y_list.append(tup[2])\n",
    "    plt.scatter(x_list,y_list,color = 'g')\n",
    "\n",
    "    x_list = []\n",
    "    y_list = []\n",
    "    for tup in X_new[11:]:\n",
    "        x_list.append(tup[1])\n",
    "        y_list.append(tup[2])\n",
    "    plt.scatter(x_list,y_list,color = 'b')\n",
    "    return w\n",
    "\n",
    "weights = fit(X,y)"
   ]
  },
  {
   "cell_type": "markdown",
   "metadata": {
    "colab_type": "text",
    "id": "iMvQrLRAqwn_"
   },
   "source": [
    "### Problem 2.3 (5 points)\n",
    "Give an intuition of why the above algorithm converges for linearly separable data? We do not expect you to give a mathematic proof, but it would be great if you can provide one. You will get full points even if you just provide an intuition of a few lines. Including figures or mathematical equations is encouraged but not required."
   ]
  },
  {
   "attachments": {
    "lines.JPG": {
     "image/jpeg": "[encoded data removed]"
    }
   },
   "cell_type": "markdown",
   "metadata": {
    "colab_type": "text",
    "id": "vSMSYa0WOHdm"
   },
   "source": [
    "Initially, all the weights are zero and we are updating the weights only if the current training example is not correclty classified by the line. So for each misclassified point we are updating slope and intercept i.e. increasing or decreasing slope and intersept. As we are penalizing weights whenever the line is misclassifying so eventually converge and we will be getting slope and intersept of line which can separated two classes.\n",
    "\n",
    "As per the given equation, we are increasing weights when class label: 1 is missclassified as -1 as we are adding y * x in weights and decreasing weights when class label: -1 is missclassified as 1 as we are adding y * x in weights.\n",
    "\n",
    "![lines.JPG](attachment:lines.JPG)\n",
    "\n",
    "for features [1, -17, 20] and class label 1,there is no line as all weights are zero so we are updating the weights as.\n",
    "\n",
    "w = w + y.x\n",
    "\n",
    "w = [  1, -17,  20]\n",
    "\n",
    "This is the horizontal line from the graph with slope = -17/20 and intercept = 1/20\n",
    "\n",
    "For second feature [1, 10, 19]  and class label -1 which is misclassified by line, we are updating weights again.\n",
    "\n",
    "updated w = [  0. -27.   1.]\n",
    "\n",
    "So we got a line passing throught origin with slope = -27\n",
    "\n",
    "So we are moving the line in the 2d-space by changing the intercept and rotating the line by changing the slope.\n"
   ]
  },
  {
   "cell_type": "markdown",
   "metadata": {
    "colab_type": "text",
    "id": "xHszVcIVqzKV"
   },
   "source": [
    "### Problem 2.4 (5 points)\n",
    "What happens when the data is not linearly separable? What can be done to salvage the situation?"
   ]
  },
  {
   "cell_type": "markdown",
   "metadata": {
    "colab_type": "text",
    "id": "W9jEvEAqOKVO"
   },
   "source": [
    "It will difficult to classify non-linear data by single linear classifier and if we try to classify data with linear classifier it will not converge and give very low accuarcy. For non-linearly separable data, we can use polynomial equation i.e. classifying the data in higher dimentions. Also we can use multiple linear classifliers to correctly classify data. In first example, we have used multiple linear classifier by using one vs all paradigm. We can also use support vectore machines or neural network for non-linear classification.\n",
    "\n",
    "\n",
    "\n",
    "References:\n",
    "\n",
    "https://towardsdatascience.com/perceptron-learning-algorithm-d5db0deab975                     \n",
    "https://mlalgorithm.wordpress.com/tag/non-linearly-separable               \n",
    "https://medium.com/@vivek.yadav/how-neural-networks-learn-nonlinear-functions-and-classify-linearly-non-separable-data-22328e7e5be1"
   ]
  },
  {
   "cell_type": "code",
   "execution_count": null,
   "metadata": {},
   "outputs": [],
   "source": []
  },
  {
   "cell_type": "code",
   "execution_count": null,
   "metadata": {},
   "outputs": [],
   "source": []
  }
 ],
 "metadata": {
  "colab": {
   "collapsed_sections": [],
   "name": "P556-assignment2-S19.ipynb",
   "provenance": [],
   "version": "0.3.2"
  },
  "kernel_info": {
   "name": "python3"
  },
  "kernelspec": {
   "display_name": "Python 3",
   "language": "python",
   "name": "python3"
  },
  "language_info": {
   "codemirror_mode": {
    "name": "ipython",
    "version": 3
   },
   "file_extension": ".py",
   "mimetype": "text/x-python",
   "name": "python",
   "nbconvert_exporter": "python",
   "pygments_lexer": "ipython3",
   "version": "3.7.1"
  },
  "nteract": {
   "version": "0.12.3"
  }
 },
 "nbformat": 4,
 "nbformat_minor": 1
}
